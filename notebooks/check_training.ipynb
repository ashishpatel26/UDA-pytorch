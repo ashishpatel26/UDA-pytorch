{
 "cells": [
  {
   "cell_type": "markdown",
   "metadata": {},
   "source": [
    "# Check training"
   ]
  },
  {
   "cell_type": "code",
   "execution_count": 1,
   "metadata": {},
   "outputs": [],
   "source": [
    "import sys\n",
    "\n",
    "sys.path.insert(0, \"../code\")"
   ]
  },
  {
   "cell_type": "code",
   "execution_count": 2,
   "metadata": {},
   "outputs": [],
   "source": [
    "from utils import get_train_test_loaders"
   ]
  },
  {
   "cell_type": "code",
   "execution_count": 3,
   "metadata": {},
   "outputs": [
    {
     "name": "stdout",
     "output_type": "stream",
     "text": [
      "Files already downloaded and verified\n"
     ]
    }
   ],
   "source": [
    "train_labelled_loader, train_unlabelled_loader, test_loader = \\\n",
    "    get_train_test_loaders(dataset_name=\"CIFAR10\", \n",
    "                           num_labelled_samples=4000,\n",
    "                           path=\"../input/cifar10\",\n",
    "                           batch_size=16,\n",
    "                           unlabelled_batch_size=32,\n",
    "                           pin_memory=False,\n",
    "                           num_workers=12)\n"
   ]
  },
  {
   "cell_type": "code",
   "execution_count": 4,
   "metadata": {},
   "outputs": [],
   "source": [
    "from utils import get_model"
   ]
  },
  {
   "cell_type": "code",
   "execution_count": 5,
   "metadata": {},
   "outputs": [],
   "source": [
    "device = \"cpu\"\n",
    "batch_size = 16\n",
    "num_epochs = 200\n",
    "config = {\n",
    "    \"dataset\": \"CIFAR10\",\n",
    "    \"data_path\": \".\",\n",
    "\n",
    "    \"model\": \"fastresnet\",\n",
    "\n",
    "    \"momentum\": 0.9,\n",
    "    \"weight_decay\": 1e-4,\n",
    "    \"batch_size\": batch_size,\n",
    "    \"unlabelled_batch_size\": 320,\n",
    "    \"num_workers\": 10,\n",
    "\n",
    "    \"num_epochs\": num_epochs,\n",
    "\n",
    "    \"lr_milestones_values\": [(0, 0.0), (5, 1.0), (num_epochs, 0.0)],\n",
    "\n",
    "    \"num_labelled_samples\": 4000,\n",
    "}\n"
   ]
  },
  {
   "cell_type": "code",
   "execution_count": 6,
   "metadata": {},
   "outputs": [],
   "source": [
    "model = get_model(config['model'])\n",
    "model = model.to(device)"
   ]
  },
  {
   "cell_type": "code",
   "execution_count": 7,
   "metadata": {},
   "outputs": [],
   "source": [
    "import torch\n",
    "import torch.nn as nn\n",
    "import torch.optim as optim"
   ]
  },
  {
   "cell_type": "code",
   "execution_count": 8,
   "metadata": {},
   "outputs": [],
   "source": [
    "optimizer = optim.SGD(model.parameters(), lr=0.0,\n",
    "                      momentum=config['momentum'],\n",
    "                      weight_decay=config['weight_decay'],\n",
    "                      nesterov=True)\n",
    "\n",
    "criterion = nn.CrossEntropyLoss()"
   ]
  },
  {
   "cell_type": "code",
   "execution_count": 15,
   "metadata": {},
   "outputs": [],
   "source": [
    "consistency_criterion = nn.KLDivLoss(reduction=\"batchmean\")"
   ]
  },
  {
   "cell_type": "code",
   "execution_count": 10,
   "metadata": {},
   "outputs": [],
   "source": [
    "from ignite.contrib.handlers import PiecewiseLinear\n",
    "\n",
    "\n",
    "le = len(train_labelled_loader)\n",
    "milestones_values = [(le * m, v) for m, v in config['lr_milestones_values']]\n",
    "scheduler = PiecewiseLinear(optimizer, \"lr\", milestones_values=milestones_values)\n",
    "\n",
    "def _prepare_batch(batch, device, non_blocking):\n",
    "    x, y = batch\n",
    "    return (convert_tensor(x, device=device, non_blocking=non_blocking),\n",
    "            convert_tensor(y, device=device, non_blocking=non_blocking))\n",
    "\n",
    "def cycle(iterable):\n",
    "    while True:\n",
    "        for i in iterable:\n",
    "            yield i\n",
    "\n",
    "train_unlabelled_loader_iter = cycle(train_unlabelled_loader)\n",
    "train_labelled_loader_iter = cycle(train_labelled_loader)"
   ]
  },
  {
   "cell_type": "code",
   "execution_count": 11,
   "metadata": {},
   "outputs": [],
   "source": [
    "unsup_x, unsup_aug_x = next(train_unlabelled_loader_iter)\n",
    "labelled_batch = next(train_labelled_loader_iter)"
   ]
  },
  {
   "cell_type": "code",
   "execution_count": 12,
   "metadata": {},
   "outputs": [],
   "source": [
    "from ignite.utils import convert_tensor\n",
    "\n",
    "\n",
    "x, y = _prepare_batch(labelled_batch, device=device, non_blocking=True)\n",
    "unsup_x = convert_tensor(unsup_x, device=device, non_blocking=True)\n",
    "unsup_aug_x = convert_tensor(unsup_aug_x, device=device, non_blocking=True)\n"
   ]
  },
  {
   "cell_type": "code",
   "execution_count": 13,
   "metadata": {},
   "outputs": [],
   "source": [
    "model.train()\n",
    "# Supervised part        \n",
    "y_pred = model(x)"
   ]
  },
  {
   "cell_type": "code",
   "execution_count": 16,
   "metadata": {},
   "outputs": [],
   "source": [
    "# Unsupervised part\n",
    "unsup_orig_y_pred = model(unsup_x).detach()\n",
    "unsup_orig_y_probas = torch.softmax(unsup_orig_y_pred, dim=-1)\n",
    "\n",
    "unsup_aug_y_pred = model(unsup_aug_x)\n",
    "unsup_aug_y_probas = torch.log_softmax(unsup_aug_y_pred, dim=-1)\n",
    "\n",
    "consistency_loss = consistency_criterion(unsup_aug_y_probas, unsup_orig_y_probas)\n"
   ]
  },
  {
   "cell_type": "code",
   "execution_count": 17,
   "metadata": {},
   "outputs": [
    {
     "data": {
      "text/plain": [
       "tensor(0.0008, grad_fn=<DivBackward0>)"
      ]
     },
     "execution_count": 17,
     "metadata": {},
     "output_type": "execute_result"
    }
   ],
   "source": [
    "consistency_loss"
   ]
  },
  {
   "cell_type": "code",
   "execution_count": null,
   "metadata": {},
   "outputs": [],
   "source": []
  },
  {
   "cell_type": "code",
   "execution_count": null,
   "metadata": {},
   "outputs": [],
   "source": []
  },
  {
   "cell_type": "code",
   "execution_count": null,
   "metadata": {},
   "outputs": [],
   "source": []
  },
  {
   "cell_type": "markdown",
   "metadata": {},
   "source": [
    "Compare LR scheduling with original implementation:\n",
    "https://github.com/google-research/uda/blob/master/image/main.py"
   ]
  },
  {
   "cell_type": "code",
   "execution_count": 20,
   "metadata": {},
   "outputs": [
    {
     "data": {
      "text/plain": [
       "'1.13.1'"
      ]
     },
     "execution_count": 20,
     "metadata": {},
     "output_type": "execute_result"
    }
   ],
   "source": [
    "import tensorflow as tf\n",
    "tf.__version__"
   ]
  },
  {
   "cell_type": "code",
   "execution_count": 21,
   "metadata": {},
   "outputs": [],
   "source": [
    "import numpy as np\n",
    "import matplotlib.pyplot as plt\n",
    "%matplotlib inline"
   ]
  },
  {
   "cell_type": "code",
   "execution_count": 218,
   "metadata": {},
   "outputs": [],
   "source": [
    "learning_rate = 0.03\n",
    "train_steps = 400\n",
    "min_lr_ratio = 0.004\n",
    "warmup_steps = 20"
   ]
  },
  {
   "cell_type": "code",
   "execution_count": 219,
   "metadata": {},
   "outputs": [],
   "source": [
    "tf.reset_default_graph()\n",
    "\n",
    "global_step = tf.placeholder(dtype='int32')\n",
    "\n",
    "\n",
    "# increase the learning rate linearly\n",
    "if warmup_steps > 0:\n",
    "    warmup_lr = tf.to_float(global_step) / tf.to_float(warmup_steps) * learning_rate\n",
    "else:\n",
    "    warmup_lr = 0.0\n",
    "\n",
    "\n",
    "decay_lr = tf.train.cosine_decay(\n",
    "    learning_rate,\n",
    "    global_step=global_step - warmup_steps,\n",
    "    decay_steps=train_steps - warmup_steps,\n",
    "    alpha=min_lr_ratio)\n",
    "\n",
    "learning_rate = tf.where(global_step < warmup_steps,\n",
    "                         warmup_lr, decay_lr)\n",
    "\n",
    "sess = tf.Session()\n",
    "lrs = []\n",
    "for i in np.arange(0, train_steps):\n",
    "    lrs.append(sess.run(learning_rate, feed_dict={global_step: i}))    "
   ]
  },
  {
   "cell_type": "code",
   "execution_count": 220,
   "metadata": {},
   "outputs": [
    {
     "data": {
      "text/plain": [
       "[<matplotlib.lines.Line2D at 0x7fbac85ec2b0>]"
      ]
     },
     "execution_count": 220,
     "metadata": {},
     "output_type": "execute_result"
    },
    {
     "data": {
      "image/png": "[encoded data removed]",
      "text/plain": [
       "<Figure size 432x288 with 1 Axes>"
      ]
     },
     "metadata": {
      "needs_background": "light"
     },
     "output_type": "display_data"
    }
   ],
   "source": [
    "plt.plot(np.arange(0, train_steps), lrs)"
   ]
  },
  {
   "cell_type": "code",
   "execution_count": null,
   "metadata": {},
   "outputs": [],
   "source": []
  },
  {
   "cell_type": "code",
   "execution_count": 221,
   "metadata": {},
   "outputs": [
    {
     "data": {
      "text/plain": [
       "(0.0, 0.0015, 0.003, 0.0045)"
      ]
     },
     "execution_count": 221,
     "metadata": {},
     "output_type": "execute_result"
    }
   ],
   "source": [
    "lrs[0], lrs[1], lrs[2], lrs[3]"
   ]
  },
  {
   "cell_type": "code",
   "execution_count": 222,
   "metadata": {},
   "outputs": [
    {
     "data": {
      "text/plain": [
       "(0.0285, 0.03, 0.029999489)"
      ]
     },
     "execution_count": 222,
     "metadata": {},
     "output_type": "execute_result"
    }
   ],
   "source": [
    "lrs[warmup_steps - 1], lrs[warmup_steps], lrs[warmup_steps + 1]"
   ]
  },
  {
   "cell_type": "code",
   "execution_count": null,
   "metadata": {},
   "outputs": [],
   "source": []
  },
  {
   "cell_type": "code",
   "execution_count": null,
   "metadata": {},
   "outputs": [],
   "source": []
  },
  {
   "cell_type": "code",
   "execution_count": 259,
   "metadata": {},
   "outputs": [],
   "source": [
    "import torch\n",
    "from torch.optim.lr_scheduler import CosineAnnealingLR\n",
    "import torch.optim as optim\n",
    "\n",
    "from ignite.contrib.handlers import create_lr_scheduler_with_warmup"
   ]
  },
  {
   "cell_type": "code",
   "execution_count": 260,
   "metadata": {},
   "outputs": [],
   "source": [
    "import numpy as np\n",
    "import matplotlib.pyplot as plt\n",
    "%matplotlib inline"
   ]
  },
  {
   "cell_type": "code",
   "execution_count": 261,
   "metadata": {},
   "outputs": [],
   "source": [
    "learning_rate = 0.03\n",
    "train_steps = 400\n",
    "min_lr_ratio = 0.004\n",
    "warmup_steps = 20"
   ]
  },
  {
   "cell_type": "code",
   "execution_count": 262,
   "metadata": {},
   "outputs": [],
   "source": [
    "t = torch.tensor([0.0])\n",
    "optimizer = optim.SGD([t], lr=0.0)"
   ]
  },
  {
   "cell_type": "code",
   "execution_count": 281,
   "metadata": {},
   "outputs": [],
   "source": [
    "eta_min = learning_rate * min_lr_ratio\n",
    "num_warmup_steps = warmup_steps        \n",
    "\n",
    "cosine_lr_decay = CosineAnnealingLR(optimizer, eta_min=eta_min, T_max=train_steps - warmup_steps)\n",
    "\n",
    "lr_scheduler = create_lr_scheduler_with_warmup(cosine_lr_decay,\n",
    "                                               warmup_start_value=0.0, \n",
    "                                               warmup_end_value=learning_rate * (1.0 + 1.0 / warmup_steps),\n",
    "                                               warmup_duration=warmup_steps)\n"
   ]
  },
  {
   "cell_type": "code",
   "execution_count": 282,
   "metadata": {},
   "outputs": [],
   "source": [
    "lrs2 = []\n",
    "for i in np.arange(0, train_steps):    \n",
    "    lr_scheduler(None)\n",
    "    lrs2.append(optimizer.param_groups[0]['lr'])\n",
    "    optimizer.step()\n"
   ]
  },
  {
   "cell_type": "code",
   "execution_count": 283,
   "metadata": {},
   "outputs": [
    {
     "data": {
      "text/plain": [
       "([0.0,\n",
       "  0.001575,\n",
       "  0.00315,\n",
       "  0.004725,\n",
       "  0.0063,\n",
       "  0.007875,\n",
       "  0.00945,\n",
       "  0.011025,\n",
       "  0.0126,\n",
       "  0.014175],\n",
       " 0.029925)"
      ]
     },
     "execution_count": 283,
     "metadata": {},
     "output_type": "execute_result"
    }
   ],
   "source": [
    "lrs2[:10], np.array(lrs2).max()"
   ]
  },
  {
   "cell_type": "code",
   "execution_count": 284,
   "metadata": {},
   "outputs": [
    {
     "data": {
      "text/plain": [
       "[<matplotlib.lines.Line2D at 0x7fbac83d7710>]"
      ]
     },
     "execution_count": 284,
     "metadata": {},
     "output_type": "execute_result"
    },
    {
     "data": {
      "image/png": "[encoded data removed]",
      "text/plain": [
       "<Figure size 432x288 with 1 Axes>"
      ]
     },
     "metadata": {
      "needs_background": "light"
     },
     "output_type": "display_data"
    }
   ],
   "source": [
    "plt.plot(np.arange(0, train_steps), lrs2)"
   ]
  },
  {
   "cell_type": "code",
   "execution_count": 285,
   "metadata": {},
   "outputs": [
    {
     "data": {
      "text/plain": [
       "(0.027, 0.0285, 0.03, 0.029999489)"
      ]
     },
     "execution_count": 285,
     "metadata": {},
     "output_type": "execute_result"
    }
   ],
   "source": [
    "lrs[warmup_steps - 2], lrs[warmup_steps - 1], lrs[warmup_steps], lrs[warmup_steps + 1]"
   ]
  },
  {
   "cell_type": "code",
   "execution_count": 286,
   "metadata": {},
   "outputs": [
    {
     "data": {
      "text/plain": [
       "(0.02835, 0.029925, 0.02992449071696036, 0.029922962902650268)"
      ]
     },
     "execution_count": 286,
     "metadata": {},
     "output_type": "execute_result"
    }
   ],
   "source": [
    "lrs2[warmup_steps - 2], lrs2[warmup_steps - 1], lrs2[warmup_steps], lrs2[warmup_steps + 1]"
   ]
  },
  {
   "cell_type": "code",
   "execution_count": null,
   "metadata": {},
   "outputs": [],
   "source": []
  },
  {
   "cell_type": "code",
   "execution_count": 237,
   "metadata": {},
   "outputs": [
    {
     "data": {
      "text/plain": [
       "(0.03, 0.029999489, 0.02999796, 0.029995404)"
      ]
     },
     "execution_count": 237,
     "metadata": {},
     "output_type": "execute_result"
    }
   ],
   "source": [
    "lrs[warmup_steps], lrs[warmup_steps + 1], lrs[warmup_steps + 2], lrs[warmup_steps + 3]"
   ]
  },
  {
   "cell_type": "code",
   "execution_count": 238,
   "metadata": {},
   "outputs": [
    {
     "data": {
      "text/plain": [
       "(0.03, 0.029999489435422768, 0.029997957776587487, 0.029995405128181)"
      ]
     },
     "execution_count": 238,
     "metadata": {},
     "output_type": "execute_result"
    }
   ],
   "source": [
    "lrs2[warmup_steps], lrs2[warmup_steps + 1], lrs2[warmup_steps + 2], lrs2[warmup_steps + 3]"
   ]
  },
  {
   "cell_type": "code",
   "execution_count": 239,
   "metadata": {},
   "outputs": [
    {
     "data": {
      "text/plain": [
       "(0.00012051056457723179, 0.00012051025)"
      ]
     },
     "execution_count": 239,
     "metadata": {},
     "output_type": "execute_result"
    }
   ],
   "source": [
    "lrs2[-1], lrs[-1]"
   ]
  },
  {
   "cell_type": "code",
   "execution_count": null,
   "metadata": {},
   "outputs": [],
   "source": []
  },
  {
   "cell_type": "code",
   "execution_count": null,
   "metadata": {},
   "outputs": [],
   "source": []
  },
  {
   "cell_type": "code",
   "execution_count": 240,
   "metadata": {},
   "outputs": [
    {
     "data": {
      "text/plain": [
       "((400,), (400,))"
      ]
     },
     "execution_count": 240,
     "metadata": {},
     "output_type": "execute_result"
    }
   ],
   "source": [
    "np.array(lrs).shape, np.array(lrs2).shape"
   ]
  },
  {
   "cell_type": "code",
   "execution_count": 241,
   "metadata": {},
   "outputs": [
    {
     "data": {
      "text/plain": [
       "0.03"
      ]
     },
     "execution_count": 241,
     "metadata": {},
     "output_type": "execute_result"
    }
   ],
   "source": [
    "np.max(lrs2)"
   ]
  },
  {
   "cell_type": "code",
   "execution_count": 242,
   "metadata": {},
   "outputs": [
    {
     "data": {
      "text/plain": [
       "(0.0, 0.0)"
      ]
     },
     "execution_count": 242,
     "metadata": {},
     "output_type": "execute_result"
    }
   ],
   "source": [
    "lrs[0], lrs2[0]"
   ]
  },
  {
   "cell_type": "code",
   "execution_count": 243,
   "metadata": {},
   "outputs": [],
   "source": [
    "np.testing.assert_almost_equal(np.array(lrs), np.array(lrs2))"
   ]
  },
  {
   "cell_type": "code",
   "execution_count": null,
   "metadata": {},
   "outputs": [],
   "source": []
  }
 ],
 "metadata": {
  "kernelspec": {
   "display_name": "Python 3",
   "language": "python",
   "name": "python3"
  },
  "language_info": {
   "codemirror_mode": {
    "name": "ipython",
    "version": 3
   },
   "file_extension": ".py",
   "mimetype": "text/x-python",
   "name": "python",
   "nbconvert_exporter": "python",
   "pygments_lexer": "ipython3",
   "version": "3.7.3"
  }
 },
 "nbformat": 4,
 "nbformat_minor": 2
}
